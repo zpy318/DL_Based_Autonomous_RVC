{
 "cells": [
  {
   "cell_type": "code",
   "execution_count": 1,
   "metadata": {},
   "outputs": [
    {
     "ename": "ModuleNotFoundError",
     "evalue": "No module named 'ultralytics'",
     "output_type": "error",
     "traceback": [
      "\u001b[0;31m---------------------------------------------------------------------------\u001b[0m",
      "\u001b[0;31mModuleNotFoundError\u001b[0m                       Traceback (most recent call last)",
      "\u001b[0;32m<ipython-input-1-7ab3e55a759e>\u001b[0m in \u001b[0;36m<module>\u001b[0;34m\u001b[0m\n\u001b[0;32m----> 1\u001b[0;31m \u001b[0;32mfrom\u001b[0m \u001b[0multralytics\u001b[0m \u001b[0;32mimport\u001b[0m \u001b[0mYOLO\u001b[0m\u001b[0;34m\u001b[0m\u001b[0;34m\u001b[0m\u001b[0m\n\u001b[0m\u001b[1;32m      2\u001b[0m \u001b[0;32mimport\u001b[0m \u001b[0mos\u001b[0m\u001b[0;34m\u001b[0m\u001b[0;34m\u001b[0m\u001b[0m\n\u001b[1;32m      3\u001b[0m \u001b[0;31m# Comment this out if you don't use weights and biases\u001b[0m\u001b[0;34m\u001b[0m\u001b[0;34m\u001b[0m\u001b[0;34m\u001b[0m\u001b[0m\n\u001b[1;32m      4\u001b[0m \u001b[0;31m# import wandb\u001b[0m\u001b[0;34m\u001b[0m\u001b[0;34m\u001b[0m\u001b[0;34m\u001b[0m\u001b[0m\n\u001b[1;32m      5\u001b[0m \u001b[0;32mimport\u001b[0m \u001b[0mPIL\u001b[0m\u001b[0;34m\u001b[0m\u001b[0;34m\u001b[0m\u001b[0m\n",
      "\u001b[0;31mModuleNotFoundError\u001b[0m: No module named 'ultralytics'"
     ]
    }
   ],
   "source": [
    "from ultralytics import YOLO\n",
    "import os\n",
    "# Comment this out if you don't use weights and biases\n",
    "# import wandb\n",
    "import PIL\n",
    "import cv2"
   ]
  },
  {
   "cell_type": "code",
   "execution_count": 2,
   "metadata": {},
   "outputs": [],
   "source": [
    "# choose your model from yolov8n-cls.pt, yolov8s-cls.pt, yolov8m-cls.pt, yolov8l-cls.pt, and yolov8x-cls.pt\n",
    "model = YOLO('yolov8m-cls.pt')"
   ]
  },
  {
   "cell_type": "code",
   "execution_count": 3,
   "metadata": {},
   "outputs": [
    {
     "name": "stdout",
     "output_type": "stream",
     "text": [
      "YOLOv8n-cls summary: 99 layers, 2719288 parameters, 0 gradients, 4.4 GFLOPs\n"
     ]
    },
    {
     "data": {
      "text/plain": [
       "(99, 2719288, 0, 4.383948800000001)"
      ]
     },
     "execution_count": 3,
     "metadata": {},
     "output_type": "execute_result"
    }
   ],
   "source": [
    "model.info()"
   ]
  },
  {
   "cell_type": "code",
   "execution_count": 4,
   "metadata": {},
   "outputs": [
    {
     "name": "stdout",
     "output_type": "stream",
     "text": [
      "New https://pypi.org/project/ultralytics/8.2.41 available 😃 Update with 'pip install -U ultralytics'\n",
      "Ultralytics YOLOv8.1.45 🚀 Python-3.11.5 torch-2.2.0+cu121 CUDA:0 (NVIDIA TITAN RTX, 24212MiB)\n",
      "\u001b[34m\u001b[1mengine/trainer: \u001b[0mtask=classify, mode=train, model=yolov8n-cls.pt, data=dataset_with_flip, epochs=50, time=None, patience=5, batch=16, imgsz=224, save=True, save_period=-1, cache=False, device=0, workers=8, project=None, name=train11, exist_ok=False, pretrained=True, optimizer=auto, verbose=True, seed=0, deterministic=True, single_cls=False, rect=False, cos_lr=False, close_mosaic=10, resume=False, amp=True, fraction=1.0, profile=False, freeze=None, multi_scale=False, overlap_mask=True, mask_ratio=4, dropout=0.0, val=True, split=val, save_json=False, save_hybrid=False, conf=None, iou=0.7, max_det=300, half=False, dnn=False, plots=True, source=None, vid_stride=1, stream_buffer=False, visualize=False, augment=False, agnostic_nms=False, classes=None, retina_masks=False, embed=None, show=False, save_frames=False, save_txt=False, save_conf=False, save_crop=False, show_labels=True, show_conf=True, show_boxes=True, line_width=None, format=torchscript, keras=False, optimize=False, int8=False, dynamic=False, simplify=False, opset=None, workspace=4, nms=False, lr0=0.01, lrf=0.01, momentum=0.937, weight_decay=0.0005, warmup_epochs=3.0, warmup_momentum=0.8, warmup_bias_lr=0.1, box=7.5, cls=0.5, dfl=1.5, pose=12.0, kobj=1.0, label_smoothing=0.0, nbs=64, hsv_h=0.015, hsv_s=0.7, hsv_v=0.4, degrees=0.0, translate=0.1, scale=0.5, shear=0.0, perspective=0.0, flipud=0.0, fliplr=0.5, bgr=0.0, mosaic=1.0, mixup=0.0, copy_paste=0.0, auto_augment=randaugment, erasing=0.4, crop_fraction=1.0, cfg=None, tracker=botsort.yaml, save_dir=runs/classify/train11\n",
      "\u001b[34m\u001b[1mtrain:\u001b[0m /home/peiyao/Desktop/network_RVC/b_scan_contact_network/YOLO/dataset_with_flip/train... found 15200 images in 2 classes ✅ \n",
      "\u001b[34m\u001b[1mval:\u001b[0m /home/peiyao/Desktop/network_RVC/b_scan_contact_network/YOLO/dataset_with_flip/val... found 3800 images in 2 classes ✅ \n",
      "\u001b[34m\u001b[1mtest:\u001b[0m /home/peiyao/Desktop/network_RVC/b_scan_contact_network/YOLO/dataset_with_flip/test... found 380 images in 2 classes ✅ \n",
      "Overriding model.yaml nc=1000 with nc=2\n",
      "\n",
      "                   from  n    params  module                                       arguments                     \n",
      "  0                  -1  1       464  ultralytics.nn.modules.conv.Conv             [3, 16, 3, 2]                 \n",
      "  1                  -1  1      4672  ultralytics.nn.modules.conv.Conv             [16, 32, 3, 2]                \n",
      "  2                  -1  1      7360  ultralytics.nn.modules.block.C2f             [32, 32, 1, True]             \n",
      "  3                  -1  1     18560  ultralytics.nn.modules.conv.Conv             [32, 64, 3, 2]                \n",
      "  4                  -1  2     49664  ultralytics.nn.modules.block.C2f             [64, 64, 2, True]             \n",
      "  5                  -1  1     73984  ultralytics.nn.modules.conv.Conv             [64, 128, 3, 2]               \n",
      "  6                  -1  2    197632  ultralytics.nn.modules.block.C2f             [128, 128, 2, True]           \n",
      "  7                  -1  1    295424  ultralytics.nn.modules.conv.Conv             [128, 256, 3, 2]              \n",
      "  8                  -1  1    460288  ultralytics.nn.modules.block.C2f             [256, 256, 1, True]           \n",
      "  9                  -1  1    332802  ultralytics.nn.modules.head.Classify         [256, 2]                      \n",
      "YOLOv8n-cls summary: 99 layers, 1440850 parameters, 1440850 gradients, 3.4 GFLOPs\n",
      "Transferred 156/158 items from pretrained weights\n",
      "\u001b[34m\u001b[1mAMP: \u001b[0mrunning Automatic Mixed Precision (AMP) checks with YOLOv8n...\n",
      "\u001b[34m\u001b[1mAMP: \u001b[0mchecks passed ✅\n"
     ]
    },
    {
     "name": "stderr",
     "output_type": "stream",
     "text": [
      "\u001b[34m\u001b[1mtrain: \u001b[0mScanning /home/peiyao/Desktop/network_RVC/b_scan_contact_network/YOLO/dataset_with_flip/train\u001b[0m\n",
      "\u001b[34m\u001b[1mval: \u001b[0mScanning /home/peiyao/Desktop/network_RVC/b_scan_contact_network/YOLO/dataset_with_flip/val... \u001b[0m\n"
     ]
    },
    {
     "name": "stdout",
     "output_type": "stream",
     "text": [
      "\u001b[34m\u001b[1moptimizer:\u001b[0m 'optimizer=auto' found, ignoring 'lr0=0.01' and 'momentum=0.937' and determining best 'optimizer', 'lr0' and 'momentum' automatically... \n",
      "\u001b[34m\u001b[1moptimizer:\u001b[0m SGD(lr=0.01, momentum=0.9) with parameter groups 26 weight(decay=0.0), 27 weight(decay=0.0005), 27 bias(decay=0.0)\n",
      "Image sizes 224 train, 224 val\n",
      "Using 8 dataloader workers\n",
      "Logging results to \u001b[1mruns/classify/train11\u001b[0m\n",
      "Starting training for 50 epochs...\n",
      "\n",
      "      Epoch    GPU_mem       loss  Instances       Size\n"
     ]
    },
    {
     "name": "stderr",
     "output_type": "stream",
     "text": [
      "       1/50     0.505G     0.3757         16        224: 100%|██████████| 950/950 [00:32<00:00, 29.6\n",
      "               classes   top1_acc   top5_acc: 100%|██████████| 119/119 [00:03<00:00, 37.94it/s]"
     ]
    },
    {
     "name": "stdout",
     "output_type": "stream",
     "text": [
      "                   all      0.959          1\n"
     ]
    },
    {
     "name": "stderr",
     "output_type": "stream",
     "text": [
      "\n"
     ]
    },
    {
     "name": "stdout",
     "output_type": "stream",
     "text": [
      "\n",
      "      Epoch    GPU_mem       loss  Instances       Size\n"
     ]
    },
    {
     "name": "stderr",
     "output_type": "stream",
     "text": [
      "       2/50     0.505G     0.1865         16        224: 100%|██████████| 950/950 [00:29<00:00, 32.0\n",
      "               classes   top1_acc   top5_acc: 100%|██████████| 119/119 [00:02<00:00, 39.80it/s]"
     ]
    },
    {
     "name": "stdout",
     "output_type": "stream",
     "text": [
      "                   all      0.977          1\n",
      "\n",
      "      Epoch    GPU_mem       loss  Instances       Size\n"
     ]
    },
    {
     "name": "stderr",
     "output_type": "stream",
     "text": [
      "\n",
      "       3/50     0.505G     0.1572         16        224: 100%|██████████| 950/950 [00:27<00:00, 33.9\n",
      "               classes   top1_acc   top5_acc: 100%|██████████| 119/119 [00:03<00:00, 38.93it/s]"
     ]
    },
    {
     "name": "stdout",
     "output_type": "stream",
     "text": [
      "                   all       0.97          1\n",
      "\n",
      "      Epoch    GPU_mem       loss  Instances       Size\n"
     ]
    },
    {
     "name": "stderr",
     "output_type": "stream",
     "text": [
      "\n",
      "       4/50     0.505G     0.1456         16        224: 100%|██████████| 950/950 [00:27<00:00, 35.0\n",
      "               classes   top1_acc   top5_acc: 100%|██████████| 119/119 [00:03<00:00, 39.52it/s]"
     ]
    },
    {
     "name": "stdout",
     "output_type": "stream",
     "text": [
      "                   all      0.983          1\n"
     ]
    },
    {
     "name": "stderr",
     "output_type": "stream",
     "text": [
      "\n"
     ]
    },
    {
     "name": "stdout",
     "output_type": "stream",
     "text": [
      "\n",
      "      Epoch    GPU_mem       loss  Instances       Size\n"
     ]
    },
    {
     "name": "stderr",
     "output_type": "stream",
     "text": [
      "       5/50     0.505G     0.1204         16        224: 100%|██████████| 950/950 [00:26<00:00, 35.5\n",
      "               classes   top1_acc   top5_acc: 100%|██████████| 119/119 [00:03<00:00, 38.26it/s]"
     ]
    },
    {
     "name": "stdout",
     "output_type": "stream",
     "text": [
      "                   all      0.979          1\n",
      "\n",
      "      Epoch    GPU_mem       loss  Instances       Size\n"
     ]
    },
    {
     "name": "stderr",
     "output_type": "stream",
     "text": [
      "\n",
      "       6/50     0.505G     0.1059         16        224: 100%|██████████| 950/950 [00:27<00:00, 35.0\n",
      "               classes   top1_acc   top5_acc: 100%|██████████| 119/119 [00:03<00:00, 39.11it/s]"
     ]
    },
    {
     "name": "stdout",
     "output_type": "stream",
     "text": [
      "                   all      0.986          1\n"
     ]
    },
    {
     "name": "stderr",
     "output_type": "stream",
     "text": [
      "\n"
     ]
    },
    {
     "name": "stdout",
     "output_type": "stream",
     "text": [
      "\n",
      "      Epoch    GPU_mem       loss  Instances       Size\n"
     ]
    },
    {
     "name": "stderr",
     "output_type": "stream",
     "text": [
      "       7/50     0.505G     0.1026         16        224: 100%|██████████| 950/950 [00:26<00:00, 36.2\n",
      "               classes   top1_acc   top5_acc: 100%|██████████| 119/119 [00:03<00:00, 36.43it/s]"
     ]
    },
    {
     "name": "stdout",
     "output_type": "stream",
     "text": [
      "                   all      0.982          1\n",
      "\n",
      "      Epoch    GPU_mem       loss  Instances       Size\n"
     ]
    },
    {
     "name": "stderr",
     "output_type": "stream",
     "text": [
      "\n",
      "       8/50     0.505G    0.09143         16        224: 100%|██████████| 950/950 [00:27<00:00, 34.2\n",
      "               classes   top1_acc   top5_acc: 100%|██████████| 119/119 [00:03<00:00, 38.38it/s]"
     ]
    },
    {
     "name": "stdout",
     "output_type": "stream",
     "text": [
      "                   all      0.981          1\n"
     ]
    },
    {
     "name": "stderr",
     "output_type": "stream",
     "text": [
      "\n"
     ]
    },
    {
     "name": "stdout",
     "output_type": "stream",
     "text": [
      "\n",
      "      Epoch    GPU_mem       loss  Instances       Size\n"
     ]
    },
    {
     "name": "stderr",
     "output_type": "stream",
     "text": [
      "       9/50     0.505G    0.09086         16        224: 100%|██████████| 950/950 [00:26<00:00, 35.6\n",
      "               classes   top1_acc   top5_acc: 100%|██████████| 119/119 [00:03<00:00, 38.79it/s]"
     ]
    },
    {
     "name": "stdout",
     "output_type": "stream",
     "text": [
      "                   all      0.986          1\n",
      "\n",
      "      Epoch    GPU_mem       loss  Instances       Size\n"
     ]
    },
    {
     "name": "stderr",
     "output_type": "stream",
     "text": [
      "\n",
      "      10/50     0.505G    0.08868         16        224: 100%|██████████| 950/950 [00:27<00:00, 34.9\n",
      "               classes   top1_acc   top5_acc: 100%|██████████| 119/119 [00:03<00:00, 39.54it/s]"
     ]
    },
    {
     "name": "stdout",
     "output_type": "stream",
     "text": [
      "                   all      0.986          1\n",
      "\n",
      "      Epoch    GPU_mem       loss  Instances       Size\n"
     ]
    },
    {
     "name": "stderr",
     "output_type": "stream",
     "text": [
      "\n",
      "      11/50     0.505G    0.08078         16        224: 100%|██████████| 950/950 [00:26<00:00, 35.2\n",
      "               classes   top1_acc   top5_acc: 100%|██████████| 119/119 [00:02<00:00, 39.68it/s]"
     ]
    },
    {
     "name": "stdout",
     "output_type": "stream",
     "text": [
      "                   all      0.985          1\n",
      "\u001b[34m\u001b[1mEarlyStopping: \u001b[0mTraining stopped early as no improvement observed in last 5 epochs. Best results observed at epoch 6, best model saved as best.pt.\n",
      "To update EarlyStopping(patience=5) pass a new patience value, i.e. `patience=300` or use `patience=0` to disable EarlyStopping.\n"
     ]
    },
    {
     "name": "stderr",
     "output_type": "stream",
     "text": [
      "\n"
     ]
    },
    {
     "name": "stdout",
     "output_type": "stream",
     "text": [
      "\n",
      "11 epochs completed in 0.095 hours.\n",
      "Optimizer stripped from runs/classify/train11/weights/last.pt, 3.0MB\n",
      "Optimizer stripped from runs/classify/train11/weights/best.pt, 3.0MB\n",
      "\n",
      "Validating runs/classify/train11/weights/best.pt...\n",
      "Ultralytics YOLOv8.1.45 🚀 Python-3.11.5 torch-2.2.0+cu121 CUDA:0 (NVIDIA TITAN RTX, 24212MiB)\n",
      "YOLOv8n-cls summary (fused): 73 layers, 1437442 parameters, 0 gradients, 3.3 GFLOPs\n",
      "\u001b[34m\u001b[1mtrain:\u001b[0m /home/peiyao/Desktop/network_RVC/b_scan_contact_network/YOLO/dataset_with_flip/train... found 15200 images in 2 classes ✅ \n",
      "\u001b[34m\u001b[1mval:\u001b[0m /home/peiyao/Desktop/network_RVC/b_scan_contact_network/YOLO/dataset_with_flip/val... found 3800 images in 2 classes ✅ \n",
      "\u001b[34m\u001b[1mtest:\u001b[0m /home/peiyao/Desktop/network_RVC/b_scan_contact_network/YOLO/dataset_with_flip/test... found 380 images in 2 classes ✅ \n"
     ]
    },
    {
     "name": "stderr",
     "output_type": "stream",
     "text": [
      "               classes   top1_acc   top5_acc: 100%|██████████| 119/119 [00:02<00:00, 40.15it/s]\n"
     ]
    },
    {
     "name": "stdout",
     "output_type": "stream",
     "text": [
      "                   all      0.986          1\n",
      "Speed: 0.1ms preprocess, 0.1ms inference, 0.0ms loss, 0.0ms postprocess per image\n",
      "Results saved to \u001b[1mruns/classify/train11\u001b[0m\n",
      "Results saved to \u001b[1mruns/classify/train11\u001b[0m\n"
     ]
    }
   ],
   "source": [
    "results = model.train(data='../dataset_for_all/contact_network', epochs=50, device=0, patience=5)"
   ]
  },
  {
   "cell_type": "code",
   "execution_count": 5,
   "metadata": {},
   "outputs": [
    {
     "name": "stdout",
     "output_type": "stream",
     "text": [
      "Ultralytics YOLOv8.1.45 🚀 Python-3.11.5 torch-2.2.0+cu121 CUDA:0 (NVIDIA TITAN RTX, 24212MiB)\n",
      "YOLOv8n-cls summary (fused): 73 layers, 1437442 parameters, 0 gradients, 3.3 GFLOPs\n",
      "\u001b[34m\u001b[1mtrain:\u001b[0m /home/peiyao/Desktop/network_RVC/b_scan_contact_network/YOLO/dataset_with_flip/train... found 15200 images in 2 classes ✅ \n",
      "\u001b[34m\u001b[1mval:\u001b[0m /home/peiyao/Desktop/network_RVC/b_scan_contact_network/YOLO/dataset_with_flip/val... found 3800 images in 2 classes ✅ \n",
      "\u001b[34m\u001b[1mtest:\u001b[0m /home/peiyao/Desktop/network_RVC/b_scan_contact_network/YOLO/dataset_with_flip/test... found 380 images in 2 classes ✅ \n"
     ]
    },
    {
     "name": "stderr",
     "output_type": "stream",
     "text": [
      "\u001b[34m\u001b[1mval: \u001b[0mScanning /home/peiyao/Desktop/network_RVC/b_scan_contact_network/YOLO/dataset_with_flip/val... \u001b[0m\n",
      "               classes   top1_acc   top5_acc: 100%|██████████| 238/238 [00:03<00:00, 69.18it/s]\n"
     ]
    },
    {
     "name": "stdout",
     "output_type": "stream",
     "text": [
      "                   all      0.986          1\n",
      "Speed: 0.1ms preprocess, 0.3ms inference, 0.0ms loss, 0.0ms postprocess per image\n",
      "Results saved to \u001b[1mruns/classify/train112\u001b[0m\n"
     ]
    }
   ],
   "source": [
    "# validation top-1 accuracy\n",
    "val_results = model.val()"
   ]
  },
  {
   "cell_type": "code",
   "execution_count": 7,
   "metadata": {},
   "outputs": [
    {
     "name": "stdout",
     "output_type": "stream",
     "text": [
      "Ultralytics YOLOv8.1.45 🚀 Python-3.11.5 torch-2.2.0+cu121 CUDA:0 (NVIDIA TITAN RTX, 24212MiB)\n",
      "\u001b[34m\u001b[1mtrain:\u001b[0m /home/peiyao/Desktop/network_RVC/b_scan_contact_network/YOLO/dataset_with_flip/train... found 15200 images in 2 classes ✅ \n",
      "\u001b[34m\u001b[1mval:\u001b[0m /home/peiyao/Desktop/network_RVC/b_scan_contact_network/YOLO/dataset_with_flip/val... found 3800 images in 2 classes ✅ \n",
      "\u001b[34m\u001b[1mtest:\u001b[0m /home/peiyao/Desktop/network_RVC/b_scan_contact_network/YOLO/dataset_with_flip/test... found 380 images in 2 classes ✅ \n"
     ]
    },
    {
     "name": "stderr",
     "output_type": "stream",
     "text": [
      "\u001b[34m\u001b[1mtest: \u001b[0mScanning /home/peiyao/Desktop/network_RVC/b_scan_contact_network/YOLO/dataset_with_flip/test..\u001b[0m\n",
      "               classes   top1_acc   top5_acc: 100%|██████████| 24/24 [00:00<00:00, 46.75it/s]\n"
     ]
    },
    {
     "name": "stdout",
     "output_type": "stream",
     "text": [
      "                   all          1          1\n",
      "Speed: 0.1ms preprocess, 0.9ms inference, 0.0ms loss, 0.0ms postprocess per image\n",
      "Results saved to \u001b[1mruns/classify/train93\u001b[0m\n"
     ]
    }
   ],
   "source": [
    "# test top-1 accuracy\n",
    "test_results = model.val(data='../dataset_for_all/contact_network', split='test')"
   ]
  },
  {
   "cell_type": "code",
   "execution_count": 3,
   "metadata": {},
   "outputs": [],
   "source": [
    "# you can load your best model as follows\n",
    "best_model = YOLO('../dataset_for_all/contact_network/best_model/best.pt')"
   ]
  },
  {
   "cell_type": "code",
   "execution_count": null,
   "metadata": {},
   "outputs": [],
   "source": [
    "# test top-1 accuracy\n",
    "test_results = model.val(data='../dataset_for_all/contact_network', split='test')"
   ]
  }
 ],
 "metadata": {
  "kernelspec": {
   "display_name": "Python 3",
   "language": "python",
   "name": "python3"
  },
  "language_info": {
   "codemirror_mode": {
    "name": "ipython",
    "version": 3
   },
   "file_extension": ".py",
   "mimetype": "text/x-python",
   "name": "python",
   "nbconvert_exporter": "python",
   "pygments_lexer": "ipython3",
   "version": "3.6.8"
  }
 },
 "nbformat": 4,
 "nbformat_minor": 4
}
