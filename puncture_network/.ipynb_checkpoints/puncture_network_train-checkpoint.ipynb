{
 "cells": [
  {
   "cell_type": "code",
   "execution_count": 1,
   "metadata": {},
   "outputs": [],
   "source": [
    "from ultralytics import YOLO\n",
    "import os\n",
    "# Comment this out if you don't use weights and biases\n",
    "# import wandb\n",
    "import PIL\n",
    "import cv2"
   ]
  },
  {
   "cell_type": "code",
   "execution_count": 2,
   "metadata": {},
   "outputs": [],
   "source": [
    "# Comment this out if you don't use weights and biases\n",
    "# wandb.login()"
   ]
  },
  {
   "cell_type": "code",
   "execution_count": 3,
   "metadata": {},
   "outputs": [],
   "source": [
    "# choose your model from yolov8n.pt, yolov8s.pt, yolov8m.pt, yolov8l.pt, and yolov8x.pt\n",
    "model = YOLO('yolov8n.pt')"
   ]
  },
  {
   "cell_type": "code",
   "execution_count": 4,
   "metadata": {},
   "outputs": [
    {
     "name": "stdout",
     "output_type": "stream",
     "text": [
      "YOLOv8n summary: 225 layers, 3157200 parameters, 0 gradients, 8.9 GFLOPs\n"
     ]
    },
    {
     "data": {
      "text/plain": [
       "(225, 3157200, 0, 8.8575488)"
      ]
     },
     "execution_count": 4,
     "metadata": {},
     "output_type": "execute_result"
    }
   ],
   "source": [
    "model.info()"
   ]
  },
  {
   "cell_type": "code",
   "execution_count": null,
   "metadata": {
    "scrolled": true
   },
   "outputs": [],
   "source": [
    "# train the model - data=\"/absolute/path/to/your/yaml_file.yaml\"\n",
    "results = model.train(data=\"../dataset_for_all/puncture_network/data.yaml\", epochs=100, device=1, patience=10)"
   ]
  },
  {
   "cell_type": "code",
   "execution_count": null,
   "metadata": {},
   "outputs": [],
   "source": [
    "# Validate the model\n",
    "metrics = model.val()  # no arguments needed, dataset and settings remembered"
   ]
  },
  {
   "cell_type": "code",
   "execution_count": null,
   "metadata": {},
   "outputs": [],
   "source": [
    "# nano model - data=\"/absolute/path/to/your/yaml_file.yaml\"\n",
    "test_results = model.val(data=\"../dataset_for_all/puncture_network/data.yaml\", split='test')"
   ]
  },
  {
   "cell_type": "code",
   "execution_count": 5,
   "metadata": {},
   "outputs": [],
   "source": [
    "# reload the model parameters\n",
    "best_model = YOLO('../dataset_for_all/puncure_network/best_model/best.pt')"
   ]
  },
  {
   "cell_type": "code",
   "execution_count": 6,
   "metadata": {
    "scrolled": true
   },
   "outputs": [
    {
     "name": "stdout",
     "output_type": "stream",
     "text": [
      "Ultralytics YOLOv8.1.45 🚀 Python-3.11.5 torch-2.2.0+cu121 CUDA:0 (NVIDIA TITAN RTX, 24212MiB)\n",
      "Model summary (fused): 168 layers, 3006038 parameters, 0 gradients, 8.1 GFLOPs\n"
     ]
    },
    {
     "name": "stderr",
     "output_type": "stream",
     "text": [
      "\u001b[34m\u001b[1mval: \u001b[0mScanning /home/peiyao/Desktop/network_RVC/b_scan_puncture_network/YOLO_obje\u001b[0m\n",
      "                 Class     Images  Instances      Box(P          R      mAP50  m\n"
     ]
    },
    {
     "name": "stdout",
     "output_type": "stream",
     "text": [
      "                   all       2808       2808      0.933      0.963      0.974      0.693\n",
      "           no_puncture       2808       1762      0.965      0.957      0.989       0.71\n",
      "              puncture       2808       1046      0.902       0.97       0.96      0.676\n",
      "Speed: 0.2ms preprocess, 1.5ms inference, 0.0ms loss, 0.8ms postprocess per image\n",
      "Results saved to \u001b[1mruns/detect/val14\u001b[0m\n"
     ]
    }
   ],
   "source": [
    "metrics = best_model.val()"
   ]
  },
  {
   "cell_type": "code",
   "execution_count": 7,
   "metadata": {
    "scrolled": true
   },
   "outputs": [
    {
     "name": "stdout",
     "output_type": "stream",
     "text": [
      "Ultralytics YOLOv8.1.45 🚀 Python-3.11.5 torch-2.2.0+cu121 CUDA:0 (NVIDIA TITAN RTX, 24212MiB)\n"
     ]
    },
    {
     "name": "stderr",
     "output_type": "stream",
     "text": [
      "\u001b[34m\u001b[1mval: \u001b[0mScanning /home/peiyao/Desktop/Science_Robotics_Github_code/puncture_network\u001b[0m\n",
      "                 Class     Images  Instances      Box(P          R      mAP50  m\n"
     ]
    },
    {
     "name": "stdout",
     "output_type": "stream",
     "text": [
      "                   all        720        720      0.922      0.937      0.976      0.674\n",
      "           no_puncture        720        418      0.972      0.904      0.983      0.686\n",
      "              puncture        720        302      0.872      0.969      0.969      0.663\n",
      "Speed: 0.5ms preprocess, 1.5ms inference, 0.0ms loss, 0.4ms postprocess per image\n",
      "Results saved to \u001b[1mruns/detect/val15\u001b[0m\n"
     ]
    }
   ],
   "source": [
    "test_results = best_model.val(data=\"/absolute/path/to/your/yaml_file.yaml\", split='test')"
   ]
  },
  {
   "cell_type": "code",
   "execution_count": null,
   "metadata": {},
   "outputs": [],
   "source": [
    "# validation accuracy\n",
    "correct_prediction_count = 0\n",
    "i = 0\n",
    "path = \"../dataset_for_all/puncure_network/valid/images\"\n",
    "dir_list = os.listdir(path)\n",
    "for image_path in dir_list:\n",
    "    file = open(\"../dataset_for_all/puncure_network/valid/labels/\" + image_path[:-3] + \"txt\", \"r\")\n",
    "    content = int(file.read()[0])\n",
    "    # read/process image\n",
    "    img_path = os.path.join(\"../dataset_for_all/puncure_network/valid/images\", image_path)\n",
    "    # image = cv2.imread(image_path, cv2.IMREAD_GRAYSCALE)\n",
    "    inference_result = best_model(img_path)\n",
    "    if (len(inference_result[0].boxes.data) == 0):\n",
    "        if content == 0:\n",
    "            correct_prediction_count += 1\n",
    "        continue\n",
    "    prob1 = inference_result[0].boxes.data[0][4].item()\n",
    "    prob2 = inference_result[0].boxes.data[0][5].item()\n",
    "    print(\"i = \", i)\n",
    "    print(\"prob1 = \", prob1)\n",
    "    print(\"prob2 = \", prob2)\n",
    "    if (prob1 >= prob2 and content == 0):\n",
    "        correct_prediction_count += 1\n",
    "    elif (prob1 < prob2 and content == 1):\n",
    "        correct_prediction_count += 1\n",
    "    i += 1\n",
    "print(\"correct_prediction_count = \", correct_prediction_count)\n",
    "print(\"length of dir_list = \", len(dir_list))\n",
    "print(\"success rate = \", correct_prediction_count / len(dir_list))"
   ]
  },
  {
   "cell_type": "code",
   "execution_count": null,
   "metadata": {},
   "outputs": [],
   "source": [
    "# test accuracy \n",
    "correct_prediction_count = 0\n",
    "i = 0\n",
    "path = \"../dataset_for_all/puncure_network/test/images\"\n",
    "dir_list = os.listdir(path)\n",
    "for image_path in dir_list:\n",
    "    file = open(\"../dataset_for_all/puncure_network/test/labels/\" + image_path[:-3] + \"txt\", \"r\")\n",
    "    content = int(file.read()[0])\n",
    "    # read/process image\n",
    "    img_path = os.path.join(\"../dataset_for_all/puncure_network/test/images\", image_path)\n",
    "    # image = cv2.imread(image_path, cv2.IMREAD_GRAYSCALE)\n",
    "    inference_result = best_model(img_path)\n",
    "    if (len(inference_result[0].boxes.data) == 0):\n",
    "        if content == 0:\n",
    "            correct_prediction_count += 1\n",
    "        continue\n",
    "    prob1 = inference_result[0].boxes.data[0][4].item()\n",
    "    prob2 = inference_result[0].boxes.data[0][5].item()\n",
    "    print(\"i = \", i)\n",
    "    print(\"prob1 = \", prob1)\n",
    "    print(\"prob2 = \", prob2)\n",
    "    if (prob1 >= prob2 and content == 0):\n",
    "        correct_prediction_count += 1\n",
    "    elif (prob1 < prob2 and content == 1):\n",
    "        correct_prediction_count += 1\n",
    "    i += 1\n",
    "print(\"correct_prediction_count = \", correct_prediction_count)\n",
    "print(\"length of dir_list = \", len(dir_list))\n",
    "print(\"success rate = \", correct_prediction_count / len(dir_list))"
   ]
  }
 ],
 "metadata": {
  "kernelspec": {
   "display_name": "Python 3",
   "language": "python",
   "name": "python3"
  },
  "language_info": {
   "codemirror_mode": {
    "name": "ipython",
    "version": 3
   },
   "file_extension": ".py",
   "mimetype": "text/x-python",
   "name": "python",
   "nbconvert_exporter": "python",
   "pygments_lexer": "ipython3",
   "version": "3.6.8"
  }
 },
 "nbformat": 4,
 "nbformat_minor": 4
}
